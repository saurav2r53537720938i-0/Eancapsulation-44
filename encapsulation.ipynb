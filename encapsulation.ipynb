{
 "cells": [
  {
   "cell_type": "code",
   "execution_count": 1,
   "id": "4f2febb8-e4fb-492b-b4af-bd870c68ad18",
   "metadata": {},
   "outputs": [],
   "source": [
    "class test:\n",
    "    \n",
    "    def __init__(self,a,b):\n",
    "        self.a = a\n",
    "        self.b = b"
   ]
  },
  {
   "cell_type": "code",
   "execution_count": 2,
   "id": "8a393ed2-2d1a-4f2c-a2a8-2de2cf133cf4",
   "metadata": {},
   "outputs": [],
   "source": [
    "t = test(23,34)"
   ]
  },
  {
   "cell_type": "code",
   "execution_count": 3,
   "id": "6eba0414-c169-4948-a4d7-db7956653ee6",
   "metadata": {},
   "outputs": [],
   "source": [
    "t.a = 2345345"
   ]
  },
  {
   "cell_type": "code",
   "execution_count": 4,
   "id": "0d4e6dbb-e68f-40cb-9a6f-8c7ed6e1745f",
   "metadata": {},
   "outputs": [
    {
     "data": {
      "text/plain": [
       "2345345"
      ]
     },
     "execution_count": 4,
     "metadata": {},
     "output_type": "execute_result"
    }
   ],
   "source": [
    "t.a"
   ]
  },
  {
   "cell_type": "code",
   "execution_count": 39,
   "id": "b5bcf27b-1edb-441d-b8a4-584b911cbcaf",
   "metadata": {},
   "outputs": [],
   "source": [
    "class car :\n",
    "    def __init__(self,year,make,model,speed) :\n",
    "        \n",
    "        self.__year = year\n",
    "        self.__make = make\n",
    "        self.__model = model\n",
    "        self.__speed = 0\n",
    "        \n",
    "    def set_speed(self,speed) :\n",
    "            self.__speed = 0 if speed < 0 else speed\n",
    "            \n",
    "    def get_speed(self) :\n",
    "                return self.__speed"
   ]
  },
  {
   "cell_type": "code",
   "execution_count": 40,
   "id": "8a0d88a7-6a2a-402c-bf76-7b66eaa1f510",
   "metadata": {},
   "outputs": [],
   "source": [
    "c = car(2021,\"toyata\",\"innova\",12)"
   ]
  },
  {
   "cell_type": "code",
   "execution_count": 41,
   "id": "5ac50542-0ea0-4a55-8e70-02fd462b43bb",
   "metadata": {},
   "outputs": [
    {
     "data": {
      "text/plain": [
       "2021"
      ]
     },
     "execution_count": 41,
     "metadata": {},
     "output_type": "execute_result"
    }
   ],
   "source": [
    "c._car__year"
   ]
  },
  {
   "cell_type": "code",
   "execution_count": 46,
   "id": "2e6f1791-4b5a-4745-9379-9e52353c77dd",
   "metadata": {},
   "outputs": [],
   "source": [
    "c.set_speed(-3245)"
   ]
  },
  {
   "cell_type": "code",
   "execution_count": 43,
   "id": "bc2a8ffc-f9d1-41e3-9cb8-908d21101120",
   "metadata": {},
   "outputs": [
    {
     "data": {
      "text/plain": [
       "0"
      ]
     },
     "execution_count": 43,
     "metadata": {},
     "output_type": "execute_result"
    }
   ],
   "source": [
    "c.get_speed()"
   ]
  },
  {
   "cell_type": "code",
   "execution_count": 44,
   "id": "abf70e99-383b-487f-b848-7620cb980cc9",
   "metadata": {},
   "outputs": [],
   "source": [
    "c.set_speed(234)"
   ]
  },
  {
   "cell_type": "code",
   "execution_count": 47,
   "id": "fafadc99-4211-40c1-8684-257eb6116898",
   "metadata": {},
   "outputs": [
    {
     "data": {
      "text/plain": [
       "0"
      ]
     },
     "execution_count": 47,
     "metadata": {},
     "output_type": "execute_result"
    }
   ],
   "source": [
    "c.get_speed()"
   ]
  },
  {
   "cell_type": "code",
   "execution_count": 55,
   "id": "9d0e454a-d364-4f04-b050-0c1daed7a5b2",
   "metadata": {},
   "outputs": [],
   "source": [
    "class bank_account:\n",
    "    def __init__(self,balance):\n",
    "        self.__balance = balance\n",
    "        \n",
    "    def deposit(self,amount):\n",
    "            self.__balance = self.__balance+amount\n",
    "            \n",
    "    def withdraw(self,amount):\n",
    "            if self.__balance>= amount:\n",
    "                self.__balance = self.__balance-amount\n",
    "                return True\n",
    "            else:\n",
    "                return False\n",
    "    def get_balance(self):\n",
    "                return self.__balance"
   ]
  },
  {
   "cell_type": "code",
   "execution_count": 56,
   "id": "9d1690f6-4df3-441c-a23d-146471da2bfe",
   "metadata": {},
   "outputs": [],
   "source": [
    "himanshu = bank_account(1000)"
   ]
  },
  {
   "cell_type": "code",
   "execution_count": 57,
   "id": "05e4d113-b371-45a0-8ef8-a53767c5c7cb",
   "metadata": {},
   "outputs": [
    {
     "data": {
      "text/plain": [
       "1000"
      ]
     },
     "execution_count": 57,
     "metadata": {},
     "output_type": "execute_result"
    }
   ],
   "source": [
    "himanshu.get_balance()"
   ]
  },
  {
   "cell_type": "code",
   "execution_count": 58,
   "id": "b6ed46e9-0db2-43a2-baaa-9b07bb9cb279",
   "metadata": {},
   "outputs": [],
   "source": [
    "himanshu.deposit(5000)"
   ]
  },
  {
   "cell_type": "code",
   "execution_count": 59,
   "id": "c38d9b92-6e8f-4c66-b503-eeed95285ace",
   "metadata": {},
   "outputs": [
    {
     "data": {
      "text/plain": [
       "6000"
      ]
     },
     "execution_count": 59,
     "metadata": {},
     "output_type": "execute_result"
    }
   ],
   "source": [
    "himanshu.get_balance()"
   ]
  },
  {
   "cell_type": "code",
   "execution_count": 60,
   "id": "82d90abf-8232-42f1-8450-50e2c7d4af62",
   "metadata": {},
   "outputs": [],
   "source": [
    "himanshu.deposit(1000)"
   ]
  },
  {
   "cell_type": "code",
   "execution_count": 61,
   "id": "e497f6ab-6bca-48c5-85d2-9303c9962e76",
   "metadata": {},
   "outputs": [
    {
     "data": {
      "text/plain": [
       "7000"
      ]
     },
     "execution_count": 61,
     "metadata": {},
     "output_type": "execute_result"
    }
   ],
   "source": [
    "himanshu.get_balance()"
   ]
  },
  {
   "cell_type": "code",
   "execution_count": null,
   "id": "0c10e04f-545f-4fa2-91b0-0a2cd0cd13d6",
   "metadata": {},
   "outputs": [],
   "source": []
  }
 ],
 "metadata": {
  "kernelspec": {
   "display_name": "Python 3 (ipykernel)",
   "language": "python",
   "name": "python3"
  },
  "language_info": {
   "codemirror_mode": {
    "name": "ipython",
    "version": 3
   },
   "file_extension": ".py",
   "mimetype": "text/x-python",
   "name": "python",
   "nbconvert_exporter": "python",
   "pygments_lexer": "ipython3",
   "version": "3.10.8"
  }
 },
 "nbformat": 4,
 "nbformat_minor": 5
}
